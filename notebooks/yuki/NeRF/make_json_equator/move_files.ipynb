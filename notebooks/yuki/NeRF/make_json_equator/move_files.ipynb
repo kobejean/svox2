{
 "cells": [
  {
   "cell_type": "code",
   "execution_count": 4,
   "id": "85d55923-fbf3-428a-8b51-52307019090f",
   "metadata": {},
   "outputs": [],
   "source": [
    "import shutil\n",
    "import os\n",
    "\n",
    "in_ckpt_dir = \"./test\"\n",
    "out_ckpt_dir = \"/home/ccl/Datasets/NeRF/ScanNerf\"\n",
    "scenes = sorted([file_name for file_name in os.listdir(in_ckpt_dir) if not file_name.startswith('.')])\n",
    "\n",
    "for scene in scenes:\n",
    "    for num_img in [3, 10, 25]:\n",
    "        file_name = f\"train_all_{num_img}_horizontal.json\"\n",
    "        in_file_path = f\"{in_ckpt_dir}/{scene}/{file_name}\"\n",
    "        out_file_path = f\"{out_ckpt_dir}/{scene}/{file_name}\"\n",
    "        shutil.copy(in_file_path, out_file_path)"
   ]
  },
  {
   "cell_type": "code",
   "execution_count": null,
   "id": "b5849a36-0952-49b0-92bf-c9ad3ad91dbc",
   "metadata": {},
   "outputs": [],
   "source": []
  }
 ],
 "metadata": {
  "kernelspec": {
   "display_name": "Python 3 (ipykernel)",
   "language": "python",
   "name": "python3"
  },
  "language_info": {
   "codemirror_mode": {
    "name": "ipython",
    "version": 3
   },
   "file_extension": ".py",
   "mimetype": "text/x-python",
   "name": "python",
   "nbconvert_exporter": "python",
   "pygments_lexer": "ipython3",
   "version": "3.8.8"
  }
 },
 "nbformat": 4,
 "nbformat_minor": 5
}
