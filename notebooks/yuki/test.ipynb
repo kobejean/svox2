{
 "cells": [
  {
   "cell_type": "code",
   "execution_count": 6,
   "id": "ffa40663-48ef-4443-b5be-9c83e29b329b",
   "metadata": {
    "tags": []
   },
   "outputs": [],
   "source": [
    "import os\n",
    "\n",
    "scene = \"airplane1\"\n",
    "new_dir_path = f\"/home/ccl/Downloads/plots/{scene}\"\n",
    "if not os.path.exists(new_dir_path):\n",
    "    os.mkdir(new_dir_path)"
   ]
  },
  {
   "cell_type": "code",
   "execution_count": null,
   "id": "6e38182f-4fe3-4235-afce-4d3d61bd1028",
   "metadata": {},
   "outputs": [],
   "source": []
  }
 ],
 "metadata": {
  "kernelspec": {
   "display_name": "Python 3 (ipykernel)",
   "language": "python",
   "name": "python3"
  },
  "language_info": {
   "codemirror_mode": {
    "name": "ipython",
    "version": 3
   },
   "file_extension": ".py",
   "mimetype": "text/x-python",
   "name": "python",
   "nbconvert_exporter": "python",
   "pygments_lexer": "ipython3",
   "version": "3.8.8"
  }
 },
 "nbformat": 4,
 "nbformat_minor": 5
}
