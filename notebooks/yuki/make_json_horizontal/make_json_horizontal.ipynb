{
 "cells": [
  {
   "cell_type": "code",
   "execution_count": 31,
   "id": "55d12fd2-99cb-4f2d-bf61-fbbbe4ba09ac",
   "metadata": {
    "tags": []
   },
   "outputs": [],
   "source": [
    "import json\n",
    "import random\n",
    "import os\n",
    "import numpy as np\n",
    "\n",
    "def get_horizontal_frames(num_image, frames):\n",
    "    equator_threshold = -0.4\n",
    "    center_pt = np.zeros(3)\n",
    "    \n",
    "    # initialization of dict_list\n",
    "    selected_frame_dict_list = []\n",
    "    for i in range(num_image):\n",
    "        s_f_dict = {}\n",
    "        theta = 2*np.pi/num_image * i\n",
    "        base_vector = np.array([np.sin(theta), np.cos(theta)])\n",
    "        s_f_dict[\"base_vector\"] = base_vector\n",
    "        s_f_dict[\"selected_frame_inner_product\"] = 0\n",
    "        selected_frame_dict_list.append(s_f_dict)\n",
    "\n",
    "    # select num_image frames\n",
    "    for frame in frames:\n",
    "        transform_matrix = frame[\"transform_matrix\"]\n",
    "        t_m_array = np.array(transform_matrix) # =~ c2w ?\n",
    "\n",
    "        # z = t_m_array[2, 3] height??\n",
    "        if t_m_array[2,3] <= equator_threshold: # TODO > <= ??\n",
    "            continue\n",
    "\n",
    "        # xy plane vector\n",
    "        vector = t_m_array[[0, 1], 3] - center_pt[[0, 1]]\n",
    "        # inner product =~ 1 -> select as a frame\n",
    "        for i, s_f_dict in enumerate(selected_frame_dict_list):\n",
    "            inner_product = np.dot(vector, s_f_dict[\"base_vector\"])\n",
    "            if s_f_dict[\"selected_frame_inner_product\"] < inner_product:\n",
    "                selected_frame_dict_list[i][\"selected_frame\"] = frame\n",
    "                selected_frame_dict_list[i][\"selected_frame_inner_product\"] = inner_product\n",
    "\n",
    "    selected_frames = [s_f_dict[\"selected_frame\"] for s_f_dict in selected_frame_dict_list]\n",
    "    return selected_frames\n",
    "\n",
    "def modify_dict_data_horizontal(num_image, dict_data):\n",
    "    frames = dict_data[\"frames\"]\n",
    "\n",
    "    selected_frames = get_horizontal_frames(num_image, frames)\n",
    "\n",
    "    dict_data[\"frames\"] = selected_frames\n",
    "    return dict_data\n",
    "    \n",
    "def get_dict_data_from_json_path(input_json_path):\n",
    "    with open(input_json_path, 'r') as f:\n",
    "        dict_data = json.load(f)\n",
    "    return dict_data\n",
    "\n",
    "def save_dict_data(dict_data, output_json_path):\n",
    "    with open(output_json_path, \"w\") as f:\n",
    "        json.dump(dict_data, f)\n",
    "        #json.dump(dict_data, f, indent=4)\n",
    "        \n",
    "def do_io_json_horizontal(input_dir_path, output_dir_path):\n",
    "    input_json_path = input_dir_path + \"train_all.json\"\n",
    "    dict_data = get_dict_data_from_json_path(input_json_path)\n",
    "    \n",
    "    for num_image in [3, 10, 25]:\n",
    "        modified_dict_data = modify_dict_data_horizontal(num_image, dict_data)\n",
    "        output_json_path = f\"{output_dir_path}train_all_{num_image}_horizontal.json\"\n",
    "        save_dict_data(modified_dict_data, output_json_path)\n",
    "    \n",
    "def make_json_all_scene():\n",
    "    path = \"/home/ccl/Datasets/NeRF/ScanNerf/\"\n",
    "    scene_list = sorted(os.listdir(path))\n",
    "\n",
    "    for scene in scene_list:\n",
    "        input_dir_path = f\"{path}{scene}/\"\n",
    "\n",
    "        # for test\n",
    "        new_dir = f\"./make_json_horizontal/train_horizontal\"\n",
    "        if not os.path.exists(new_dir):\n",
    "            os.mkdir(new_dir)\n",
    "\n",
    "        new_dir += f\"/{scene}\"\n",
    "        if not os.path.exists(new_dir):\n",
    "            os.mkdir(new_dir)\n",
    "        output_dir_path = new_dir + \"/\"\n",
    "\n",
    "        # for actual purpose\n",
    "        # new_dir = f\"{path}{scene}/\" \n",
    "        \n",
    "        do_io_json_horizontal(input_dir_path, output_dir_path)\n",
    "        \n"
   ]
  },
  {
   "cell_type": "code",
   "execution_count": 11,
   "id": "1cce5e22-0a60-4538-a341-0976d19295ab",
   "metadata": {
    "tags": []
   },
   "outputs": [],
   "source": [
    "make_json_all_scene()"
   ]
  },
  {
   "cell_type": "code",
   "execution_count": 12,
   "id": "75b1f5c5-173a-4f6e-b482-9c1253d1fe50",
   "metadata": {
    "tags": []
   },
   "outputs": [],
   "source": [
    "# train_data_path = \"/home/ccl/Datasets/NeRF/ScanNerf/\"\n",
    "# scene = \"airplane1\"\n",
    "# input_dir = f\"{train_data_path}{scene}/\"\n",
    "# new_dir = f\"./make_json_horizontal/\"\n",
    "# open_and_modify_json_to_horizontal(input_dir, new_dir)"
   ]
  },
  {
   "cell_type": "code",
   "execution_count": 14,
   "id": "c75561e9-75f8-41c9-8fb3-287d07ebe9b5",
   "metadata": {
    "tags": []
   },
   "outputs": [],
   "source": [
    "import json\n",
    "from PIL import Image\n",
    "import os\n",
    "\n",
    "\n",
    "ckpt_path = \"/home/ccl/Datasets/NeRF/ScanNerf/\"\n",
    "scene_list = sorted(os.listdir(ckpt_path))\n",
    "\n",
    "def save_image_json(num_train_image):\n",
    "    for scene in scene_list:\n",
    "        json_dir_path = f\"./make_json_horizontal/train_horizontal/{scene}/\"\n",
    "\n",
    "        with open(json_dir_path + f\"train_all_{num_train_image}_horizontal.json\", 'r') as f:\n",
    "            dict_data = json.load(f)\n",
    "        frames = dict_data[\"frames\"]\n",
    "\n",
    "        for frame in frames:\n",
    "            file_path = frame[\"file_path\"]\n",
    "            img_path = f\"{ckpt_path}{scene}/{file_path}.png\"\n",
    "            img = Image.open(img_path)\n",
    "\n",
    "            output_dir = f\"{json_dir_path}{num_train_image}\"\n",
    "            if not os.path.exists(output_dir):\n",
    "                os.mkdir(output_dir)\n",
    "            \n",
    "            img.save(f\"{output_dir}/{os.path.basename(file_path)}.png\")\n",
    "            \n",
    "save_image_json(3)\n",
    "for i in [3, 10, 25]:\n",
    "    save_image_json(i)"
   ]
  },
  {
   "cell_type": "code",
   "execution_count": 22,
   "id": "b191476f-af6a-4bf0-a390-b381bf6e1236",
   "metadata": {
    "tags": []
   },
   "outputs": [],
   "source": [
    "def get_plot_camera_locations(dict_data):\n",
    "    frames = dict_data[\"frames\"]\n",
    "\n",
    "    for frame in frames:\n",
    "        file_path = frame[\"file_path\"]\n",
    "        img_path = f\"{ckpt_path}{scene}/{file_path}.png\"\n",
    "        img = Image.open(img_path)\n",
    "\n",
    "        output_dir = f\"{json_dir_path}{num_train_image}\"\n",
    "        if not os.path.exists(output_dir):\n",
    "            os.mkdir(output_dir)\n",
    "\n",
    "        img.save(f\"{output_dir}/{os.path.basename(file_path)}.png\")\n",
    "            \n",
    "def"
   ]
  },
  {
   "cell_type": "code",
   "execution_count": null,
   "id": "7d0d16a8-d753-41b4-a714-b036365c76d9",
   "metadata": {},
   "outputs": [],
   "source": []
  },
  {
   "cell_type": "code",
   "execution_count": 33,
   "id": "873eb19a-3263-4465-87d2-97c727531d67",
   "metadata": {
    "tags": []
   },
   "outputs": [],
   "source": [
    "#\n",
    "ckpt_path = \"/home/ccl/Datasets/NeRF/ScanNerf/\"\n",
    "ckpt_path = \"./make_json_horizontal/train_horizontal/\"\n",
    "scene = \"airplane1\"\n",
    "num_image = 25\n",
    "input_json_path = f\"{ckpt_path}{scene}/train_all_{num_image}_horizontal.json\"\n",
    "dict_data = get_dict_data_from_json_path(input_json_path)"
   ]
  },
  {
   "cell_type": "code",
   "execution_count": 37,
   "id": "22293056-a01f-4fb1-81ad-cda7b23d4522",
   "metadata": {
    "tags": []
   },
   "outputs": [],
   "source": [
    "def show_plot_camera_locations(dict_data):\n",
    "    frames = dict_data[\"frames\"]\n",
    "    \n",
    "    t_m_arrays = [np.array(frame[\"transform_matrix\"]) for frame in frames] # =~ c2ws?\n",
    "    t_m_arrays\n",
    "        \n",
    "show_plot_camera_locations(dict_data)"
   ]
  },
  {
   "cell_type": "code",
   "execution_count": null,
   "id": "8dc6f402-f2eb-4102-83b5-57211de13c0d",
   "metadata": {},
   "outputs": [],
   "source": []
  }
 ],
 "metadata": {
  "kernelspec": {
   "display_name": "Python 3 (ipykernel)",
   "language": "python",
   "name": "python3"
  },
  "language_info": {
   "codemirror_mode": {
    "name": "ipython",
    "version": 3
   },
   "file_extension": ".py",
   "mimetype": "text/x-python",
   "name": "python",
   "nbconvert_exporter": "python",
   "pygments_lexer": "ipython3",
   "version": "3.8.8"
  }
 },
 "nbformat": 4,
 "nbformat_minor": 5
}
