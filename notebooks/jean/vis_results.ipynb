{
 "cells": [
  {
   "cell_type": "code",
   "execution_count": null,
   "id": "c7c75cdc-275b-4d61-8507-843cc24d35dd",
   "metadata": {
    "tags": []
   },
   "outputs": [],
   "source": [
    "%matplotlib widget"
   ]
  },
  {
   "cell_type": "code",
   "execution_count": null,
   "id": "6e7d0bcd-da55-463c-a14b-9a0e016cb382",
   "metadata": {
    "tags": []
   },
   "outputs": [],
   "source": [
    "import matplotlib.pyplot as plt\n",
    "import numpy as np\n",
    "import os\n",
    "from PIL import Image"
   ]
  },
  {
   "cell_type": "code",
   "execution_count": null,
   "id": "1a335453-bad7-43ec-a244-da2db6f9b9d2",
   "metadata": {
    "tags": []
   },
   "outputs": [],
   "source": [
    "ckpt_dir = \"/home/ccl/Code/svox2/opt/ckpt_auto/scannerf_light_short\"\n",
    "plot_dir = \"/home/ccl/Downloads/plots\"\n",
    "\n",
    "\n",
    "def load_results(results_dir):\n",
    "    c2ws = np.load(os.path.join(results_dir, \"c2ws.npy\"))\n",
    "    psnr = np.load(os.path.join(results_dir, \"psnr.npy\"))\n",
    "    ssim = np.load(os.path.join(results_dir, \"ssim.npy\"))\n",
    "    lpips = np.load(os.path.join(results_dir, \"lpips.npy\"))\n",
    "    return c2ws, psnr, ssim, lpips\n",
    "    \n",
    "splits = [\"all_100\", \"all\"]\n",
    "# splits = [\"all_100\", \"all_250\", \"all_500\", \"all\"]\n",
    "scenes = [\"airplane1\", \"brontosaurus\", \"lego\"]\n",
    "# scenes = [\"airplane1\", \"airplane2\", \"brontosaurus\", \"bulldozer1\", \"bulldozer2\", \"cheetah\", \"dump_truck1\", \"dump_truck2\", \"elephant\", \"excavator\", \"forklift\", \"giraffe\", \"helicopter1\", \"helicopter2\", \"lego\", \"lion\", \"plant1\", \"plant2\", \"plant3\", \"plant4\", \"plant5\", \"plant6\", \"plant7\", \"plant8\", \"plant9\", \"roadroller\", \"shark\", \"spinosaurus\", \"stegosaurus\", \"tiger\", \"tractor\", \"trex\", \"triceratops\", \"truck\", \"zebra\"]\n",
    "c2ws_test = {}\n",
    "c2ws_train = {}\n",
    "psnr_test = {}\n",
    "psnr_train = {}\n",
    "\n",
    "\n",
    "for split in splits:\n",
    "    c2ws_test[split] = {}\n",
    "    c2ws_train[split] = {}\n",
    "    psnr_test[split] = {}\n",
    "    psnr_train[split] = {}\n",
    "    for scene in scenes:\n",
    "        test_results_dir = os.path.join(ckpt_dir, split, scene, \"test_renders\")\n",
    "        train_results_dir = os.path.join(ckpt_dir, split, scene, \"train_renders\")\n",
    "\n",
    "        c2ws_test_i, psnr_test_i, ssim_test_i, lpips_test_i = load_results(test_results_dir)\n",
    "        c2ws_train_i, psnr_train_i, ssim_train_i, lpips_train_i = load_results(train_results_dir)\n",
    "        \n",
    "        # cos_dist = np.matmul(directions, directions_train.transpose())\n",
    "        # closest_train_index = np.argmax(cos_dist, axis=1)\n",
    "        # cos_dist = np.max(cos_dist, axis=1)\n",
    "        # rel_angles = np.arccos(cos_dist)\n",
    "\n",
    "        c2ws_test[split][scene] = c2ws_test_i\n",
    "        c2ws_train[split][scene] = c2ws_train_i\n",
    "        psnr_test[split][scene] = psnr_test_i\n",
    "        psnr_train[split][scene] = psnr_train_i\n",
    "\n",
    "c2ws = next(iter(next(iter(c2ws_test.values())).values()))\n",
    "center_pt = np.zeros(3)\n",
    "directions = (c2ws[:,:3,3] - center_pt)\n",
    "directions = directions / np.linalg.norm(directions, keepdims=True, axis=1)\n",
    "\n",
    "angles_equator = np.arctan2(directions[:,0], directions[:,2])\n",
    "angles_vert_x = np.arctan2(-directions[:,1], directions[:,0])\n",
    "angles_vert_z = np.arctan2(-directions[:,1], directions[:,2])\n",
    "\n",
    "# best_psnr = np.max(psnrs, axis=0)\n",
    "# best_psnr_idx = np.argmax(psnrs, axis=0)"
   ]
  },
  {
   "cell_type": "code",
   "execution_count": null,
   "id": "e07d0924-5168-4875-b195-0b8c368b6049",
   "metadata": {
    "tags": []
   },
   "outputs": [],
   "source": [
    "def xyz(c2ws):\n",
    "    return c2ws[:,0,3], c2ws[:,2,3], -c2ws[:,1,3]\n",
    "\n",
    "def plot_filter(condition, labels, filename, angles):\n",
    "    fig = plt.figure()\n",
    "    ax = fig.add_subplot(projection='3d')\n",
    "    inlier = np.where(condition)\n",
    "    outlier = np.where(np.logical_not(condition))\n",
    "    ax.scatter(*xyz(c2ws[outlier]), label=labels[1])\n",
    "    ax.scatter(*xyz(c2ws[inlier]), label=labels[0])\n",
    "    ax.legend()\n",
    "    fig.savefig(os.path.join(plot_dir, filename))\n",
    "    \n",
    "    return inlier[0]\n",
    "\n",
    "equator = plot_filter(c2ws[:,1,3] > -0.25, [\"equator\", \"not equator\"], \"equator_selection.jpeg\", angles_equator)\n",
    "vert_x = plot_filter(np.abs(c2ws[:,2,3]) < 0.1, [\"vert_x\", \"not vert_x\"], \"vert_x_selection.jpeg\", angles_vert_x)\n",
    "vert_z = plot_filter(np.abs(c2ws[:,0,3]) < 0.1, [\"vert_z\", \"not vert_z\"], \"vert_z_selection.jpeg\", angles_vert_z)\n"
   ]
  },
  {
   "cell_type": "code",
   "execution_count": null,
   "id": "d2e4740e-0c83-4c5f-8dc6-76d2a0b285a2",
   "metadata": {
    "tags": []
   },
   "outputs": [],
   "source": [
    "#%matplotlib inline"
   ]
  },
  {
   "cell_type": "code",
   "execution_count": null,
   "id": "d495c6a3-d7d3-4dbb-b137-097f991afbdd",
   "metadata": {
    "tags": []
   },
   "outputs": [],
   "source": [
    "def plot_quality(scene, theta, quality, img_ids, filename):\n",
    "    fig = plt.figure()\n",
    "    ax = fig.add_subplot(projection='polar')\n",
    "    plt.ylabel(\"PSNR\")\n",
    "    plt.xlabel(\"absolute angle around scene origin\")\n",
    "    plt.title(f\"Scene: {scene} - PSNR along vertical slice\")\n",
    "    for split in splits:\n",
    "        r = quality[split][scene]\n",
    "        ax.scatter(theta[img_ids], r[img_ids], label=f\"{split}\")\n",
    "\n",
    "    ax.legend()\n",
    "    fig.savefig(os.path.join(plot_dir, filename))\n",
    "    return fig\n",
    "\n",
    "fig = plot_quality(\"airplane1\", angles_equator, psnr_test, equator, f\"{scene}_psnr_equator.jpeg\")\n",
    "# plt.close(fig)\n",
    "# fig = plot_quality(scene, angles_vert_x, psnr_test, vert_x, f\"{scene}_psnr_vert_x.jpeg\")\n",
    "# plt.close(fig)\n",
    "# fig = plot_quality(scene, angles_vert_z, psnr_test, vert_z, f\"{scene}_psnr_vert_z.jpeg\")\n",
    "# plt.close(fig)\n",
    "\n"
   ]
  },
  {
   "cell_type": "code",
   "execution_count": null,
   "id": "27ba4d6d-fe35-4fbf-bd8b-4f20f97bdf9a",
   "metadata": {
    "tags": []
   },
   "outputs": [],
   "source": [
    "def vis_sample(scene, img_id, desc, img_ids, angles, selected_split):\n",
    "    fig = plt.figure(figsize=(10,12))\n",
    "    ax1 = plt.subplot(311, projection='polar')\n",
    "    ax2 = plt.subplot(312)\n",
    "    ax3 = plt.subplot(313, projection='3d')\n",
    "    theta = angles[img_ids]\n",
    "    \n",
    "    psnr = psnr_test[selected_split][scene][img_id]\n",
    "    \n",
    "    ax1.title.set_text(f\"{desc} - img_id {img_id}\")\n",
    "    for j, split in enumerate(splits):\n",
    "        r = psnr_test[split][scene]\n",
    "        ax1.scatter(theta, r[img_ids], s=5, label=split)\n",
    "    ax1.scatter(angles[img_id], psnr, s=50, label=f\"current\")\n",
    "    ax1.legend()\n",
    "    \n",
    "    \n",
    "    img_path = os.path.join(ckpt_dir, selected_split, scene, \"test_renders\", f'{img_id:04d}.png')\n",
    "    img = np.asarray(Image.open(img_path))\n",
    "    ax2.title.set_text(f\"{desc} - PSNR: {psnr:.2f}\")\n",
    "    ax2.imshow(img)\n",
    "\n",
    "    ax3.scatter(*xyz(c2ws_train[selected_split][scene]), s=5, label=f\"train_{selected_split}\")\n",
    "    plot = ax3.scatter(*xyz(c2ws), c=psnr_test[selected_split][scene], cmap='hot', s=5, label=f\"test_all\")\n",
    "    ax3.scatter(*xyz(c2ws[img_id:img_id+1]), s=5, label=f\"current\")\n",
    "    ax3.legend()\n",
    "    fig.colorbar(plot).set_label('PSNR')\n",
    "    \n",
    "    fig.savefig(os.path.join(plot_dir, f\"{scene}_{desc}_{psnr:.01f}_{img_id}.png\"))\n",
    "    \n",
    "vis_sample(\"airplane1\", vert_z[0], \"failure_case\", vert_z, angles_vert_z, \"all_100\")"
   ]
  },
  {
   "cell_type": "code",
   "execution_count": null,
   "id": "8f6a9d6c-5dcb-452a-8767-bf79505974fd",
   "metadata": {
    "tags": []
   },
   "outputs": [],
   "source": [
    "sample_num = 2\n",
    "scene = \"lego\"\n",
    "selected_split = \"all_100\"\n",
    "\n",
    "# filter_name = \"equator\"\n",
    "# img_ids = equator\n",
    "# angles = angles_equator\n",
    "\n",
    "filter_name = \"vert_x\"\n",
    "img_ids = vert_x\n",
    "angles = angles_vert_x\n",
    "\n",
    "# filter_name = \"vert_z\"\n",
    "# img_ids = vert_z\n",
    "# angles = angles_vert_z\n",
    "\n",
    "fail_idx = np.argsort(psnr_test[selected_split][scene][img_ids])[:sample_num]\n",
    "success_idx = np.argsort(psnr_test[selected_split][scene][img_ids])[-sample_num:][::-1]\n",
    "print()\n",
    "fig = plot_quality(scene, angles, psnr_test, img_ids, f\"{scene}_psnr_{filter_name}.jpeg\")\n",
    "for img_id in list(img_ids[fail_idx]):\n",
    "    vis_sample(scene, img_id, \"failure_case\", img_ids, angles, selected_split)\n",
    "for img_id in list(img_ids[success_idx]):\n",
    "    vis_sample(scene, img_id, \"success_case\", img_ids, angles, selected_split)"
   ]
  },
  {
   "cell_type": "code",
   "execution_count": null,
   "id": "55f6a83d-7a06-48d7-9a20-c721ab23a49e",
   "metadata": {
    "tags": []
   },
   "outputs": [],
   "source": [
    "\n",
    "fig = plt.figure(figsize=(10,8))\n",
    "plt.title(\"locations of different training/validation samples\")\n",
    "ax = fig.add_subplot(projection='3d')\n",
    "\n",
    "ax.scatter(*xyz(c2ws), s=5, label=\"val_all\")\n",
    "for split in splits:\n",
    "    # plt.title(f\"train locations {split}\")\n",
    "    ax.scatter(*xyz(c2ws_train[split][scene]), s=5, label=f\"train_{split}\")\n",
    "\n",
    "ax.legend()\n",
    "fig.savefig(f\"/home/ccl/Downloads/plots/{scene}_sample_locations.jpeg\")"
   ]
  },
  {
   "cell_type": "code",
   "execution_count": null,
   "id": "b9de6bd9-dbe2-4787-b7c9-f913aabf6c65",
   "metadata": {},
   "outputs": [],
   "source": []
  }
 ],
 "metadata": {
  "kernelspec": {
   "display_name": "Python 3 (ipykernel)",
   "language": "python",
   "name": "python3"
  },
  "language_info": {
   "codemirror_mode": {
    "name": "ipython",
    "version": 3
   },
   "file_extension": ".py",
   "mimetype": "text/x-python",
   "name": "python",
   "nbconvert_exporter": "python",
   "pygments_lexer": "ipython3",
   "version": "3.8.8"
  }
 },
 "nbformat": 4,
 "nbformat_minor": 5
}
