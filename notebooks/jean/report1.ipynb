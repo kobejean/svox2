{
 "cells": [
  {
   "cell_type": "markdown",
   "id": "3fc525a4-a31f-4166-b4a6-14dfc53ef7aa",
   "metadata": {},
   "source": [
    "# NeRF Results Report 1\n",
    "\n",
    "The most common cause for low quality NeRFs are the floating blobs that result from NeRF not being able to estimate the correct geometry. From one angle, the blob overlaps the 3d object in such a way that the NeRF renders the correct image and thus the loss function does not capture the geometry error during training. But from a different angle, such as an angle from the test set, the blob is seen out of position.\n",
    "\n",
    "Here is one exampe of blobs affecting the quality score:\n",
    "\n",
    "![airplain1 failure case](media/report1/airplane1_failure_case_23.1_29.png)\n",
    "\n",
    "In this failure case (lowest PSNR camera angle), we see that NeRF struggles to model the geometry of green portion of the top of airplane1, resulting in floating green blobs. We can see in the heatmap that other test locations that are facing this green portion also have low PSNR values. Some possible reasons for the failure to model the geometry of the green portion are:\n",
    "\n",
    "- **Lack of distinct detail**. Distinct details help us with triangulation and thus without it is hard to model the correct geometry.\n",
    "- **Reflectiveness/Shininess**. Reflective pattern may also play a part in throwing off triangulation.\n",
    "\n"
   ]
  },
  {
   "cell_type": "markdown",
   "id": "981865ca-9e0f-47d4-96c3-28ad267e906a",
   "metadata": {},
   "source": [
    "We can observe the opposite properties in the camera angle with the highest PSNR.\n",
    "\n",
    "- **Rich in distinct detail**\n",
    "- **Moderate reflectiveness**\n",
    "\n",
    "![airplain1 success case](media/report1/airplane1_success_case_39.4_352.png)"
   ]
  },
  {
   "cell_type": "markdown",
   "id": "fe9710a7-7820-4190-a39d-c8601024340b",
   "metadata": {},
   "source": [
    "## Relation of Quality to Neighboring Training Samples\n",
    "\n",
    "This plot shows us the relation between PSNR and the relative angle to the nearest training sample.\n",
    "\n",
    "![relative angle airplane1](media/report1/airplane1_relative_angles_all_100_everything.png)\n",
    "\n",
    "The trend is not very clear. One might expect the quality to decrease as the relative angle increases due to the test sample location being similar to the train sample location. However even after plotting a regression line, we only see a moderate trend. Furthermore, we don't see the same trend across scenes.\n",
    "\n",
    "Take for example the lego scene:\n",
    "\n",
    "![relative angle lego](media/report1/lego_relative_angles_all_100_everything.png)\n",
    "\n",
    "In this case, there is a slight upward trend in PSNR as the relative angle increases. So perhaps there is more going on."
   ]
  },
  {
   "cell_type": "markdown",
   "id": "fc0ba988-75d3-4acf-868b-12dcd37a6ce0",
   "metadata": {},
   "source": [
    "Let's look at the failure and success cases for this lego scene:\n",
    "\n",
    "![lego failure case](media/report1/lego_failure_case_20.2_57.png)\n",
    "\n",
    "In the heatmap plot we can see that the in this failure case the relative angle is quite small (3.9°) whereas in the success case below the relative angle is larger (7.7°).\n",
    "\n",
    "![lego success case](media/report1/lego_success_case_33.1_418.png)\n",
    "\n",
    "It seems in the failure case above, the small relative angle is hurting us because it means the floating blob is within our viewing range. This is might be because the floating blobs tend to form infront of the training sample location. Thus when the relative angle to the nearest training sample is small, we are more likely to see floating blobs that are formed because of the corresponding train sample."
   ]
  },
  {
   "cell_type": "markdown",
   "id": "d0a3faf7-d4b1-4977-93e3-e6728a609a9c",
   "metadata": {
    "tags": []
   },
   "source": [
    "We can observe further that when we train the NeRF on more training samples (1000 vs 100 samples), this should reduce the amout of floating blobs, which means the negative effect of small relative angles will be lessened. \n",
    "\n",
    "![relative angle lego](media/report1/lego_relative_angles_all_everything.png)"
   ]
  },
  {
   "cell_type": "code",
   "execution_count": null,
   "id": "aa5b668b-d1f0-4742-a66b-bc5da124dfce",
   "metadata": {},
   "outputs": [],
   "source": []
  }
 ],
 "metadata": {
  "kernelspec": {
   "display_name": "Python 3 (ipykernel)",
   "language": "python",
   "name": "python3"
  },
  "language_info": {
   "codemirror_mode": {
    "name": "ipython",
    "version": 3
   },
   "file_extension": ".py",
   "mimetype": "text/x-python",
   "name": "python",
   "nbconvert_exporter": "python",
   "pygments_lexer": "ipython3",
   "version": "3.8.8"
  }
 },
 "nbformat": 4,
 "nbformat_minor": 5
}
